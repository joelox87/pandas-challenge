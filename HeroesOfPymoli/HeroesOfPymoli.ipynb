{
 "cells": [
  {
   "cell_type": "markdown",
   "metadata": {
    "id": "ilud1AOJdkW5"
   },
   "source": [
    "### Note\n",
    "* Instructions have been included for each segment. You do not have to follow them exactly, but they are included to help you think through the steps."
   ]
  },
  {
   "cell_type": "code",
   "execution_count": 2,
   "metadata": {
    "executionInfo": {
     "elapsed": 954,
     "status": "ok",
     "timestamp": 1615146115013,
     "user": {
      "displayName": "Omar Aponte",
      "photoUrl": "",
      "userId": "10246437047479227475"
     },
     "user_tz": 300
    },
    "id": "tDH4M0KRdkW-"
   },
   "outputs": [],
   "source": [
    "# Dependencies and Setup\n",
    "import pandas as pd\n",
    "\n",
    "# File to Load (Remember to Change These)\n",
    "file_to_load = \"Resources/purchase_data.csv\"\n",
    "\n",
    "# Read Purchasing File and store into Pandas data frame\n",
    "purchase_data = pd.read_csv(file_to_load)"
   ]
  },
  {
   "cell_type": "markdown",
   "metadata": {
    "id": "F00Vq1-LdkW_"
   },
   "source": [
    "## Player Count"
   ]
  },
  {
   "cell_type": "markdown",
   "metadata": {
    "id": "X9RuZO_LdkW_"
   },
   "source": [
    "* Display the total number of players\n"
   ]
  },
  {
   "cell_type": "code",
   "execution_count": 2,
   "metadata": {
    "colab": {
     "base_uri": "https://localhost:8080/"
    },
    "executionInfo": {
     "elapsed": 264,
     "status": "ok",
     "timestamp": 1615146117850,
     "user": {
      "displayName": "Omar Aponte",
      "photoUrl": "",
      "userId": "10246437047479227475"
     },
     "user_tz": 300
    },
    "id": "OFC5NjDHdkXA",
    "outputId": "22fef5d6-f1c2-4c5b-90ec-12477a318740"
   },
   "outputs": [
    {
     "name": "stdout",
     "output_type": "stream",
     "text": [
      "Total Number of Players = 576\n"
     ]
    }
   ],
   "source": [
    "#Identify unique SN (screen names) of players and store as 'playercount'\n",
    "playercount = purchase_data[\"SN\"].unique() \n",
    "\n",
    "#Count the unique SNs identified and store as 'playercount'\n",
    "playercount = len(playercount) \n",
    "\n",
    "print(\"Total Number of Players =\",playercount)"
   ]
  },
  {
   "cell_type": "markdown",
   "metadata": {
    "id": "JynyxzUtdkXB"
   },
   "source": [
    "## Purchasing Analysis (Total)"
   ]
  },
  {
   "cell_type": "markdown",
   "metadata": {
    "id": "tFHkPkgMdkXB"
   },
   "source": [
    "* Run basic calculations to obtain number of unique items, average price, etc.\n",
    "\n",
    "\n",
    "* Create a summary data frame to hold the results\n",
    "\n",
    "\n",
    "* Optional: give the displayed data cleaner formatting\n",
    "\n",
    "\n",
    "* Display the summary data frame\n"
   ]
  },
  {
   "cell_type": "code",
   "execution_count": 3,
   "metadata": {
    "colab": {
     "base_uri": "https://localhost:8080/",
     "height": 166
    },
    "executionInfo": {
     "elapsed": 282,
     "status": "ok",
     "timestamp": 1615146122374,
     "user": {
      "displayName": "Omar Aponte",
      "photoUrl": "",
      "userId": "10246437047479227475"
     },
     "user_tz": 300
    },
    "id": "AfPqFKUuh94E",
    "outputId": "ed8e050f-c08f-44cb-c2aa-38074a96beeb"
   },
   "outputs": [
    {
     "data": {
      "text/html": [
       "<div>\n",
       "<style scoped>\n",
       "    .dataframe tbody tr th:only-of-type {\n",
       "        vertical-align: middle;\n",
       "    }\n",
       "\n",
       "    .dataframe tbody tr th {\n",
       "        vertical-align: top;\n",
       "    }\n",
       "\n",
       "    .dataframe thead th {\n",
       "        text-align: right;\n",
       "    }\n",
       "</style>\n",
       "<table border=\"1\" class=\"dataframe\">\n",
       "  <thead>\n",
       "    <tr style=\"text-align: right;\">\n",
       "      <th></th>\n",
       "      <th>Values</th>\n",
       "    </tr>\n",
       "  </thead>\n",
       "  <tbody>\n",
       "    <tr>\n",
       "      <th>Number of Unique Items</th>\n",
       "      <td>179</td>\n",
       "    </tr>\n",
       "    <tr>\n",
       "      <th>Average Purchase Price</th>\n",
       "      <td>$3.05</td>\n",
       "    </tr>\n",
       "    <tr>\n",
       "      <th>Total Number of Purchases</th>\n",
       "      <td>780</td>\n",
       "    </tr>\n",
       "    <tr>\n",
       "      <th>Total Revenue</th>\n",
       "      <td>$2,379.77</td>\n",
       "    </tr>\n",
       "  </tbody>\n",
       "</table>\n",
       "</div>"
      ],
      "text/plain": [
       "                              Values\n",
       "Number of Unique Items           179\n",
       "Average Purchase Price         $3.05\n",
       "Total Number of Purchases        780\n",
       "Total Revenue              $2,379.77"
      ]
     },
     "execution_count": 3,
     "metadata": {
      "tags": []
     },
     "output_type": "execute_result"
    }
   ],
   "source": [
    "# Number of unique items \n",
    "\n",
    "#Identify unique values for Item ID and store as 'uniqueitems'\n",
    "uniqueitems = purchase_data[\"Item ID\"].unique() \n",
    "#Count the unique values for Item ID and store as 'uniqueitems'\n",
    "uniqueitems = len(uniqueitems) \n",
    "\n",
    "# Average purchase price\n",
    "avpurchaseprice = purchase_data[\"Price\"].mean()\n",
    "\n",
    "# Total number of purchases\n",
    "#Identify unique values for Purchase ID and store as 'totalpurchases'\n",
    "totalpurchases = purchase_data[\"Purchase ID\"].unique()\n",
    "#Count the unique values for Purchase ID and store as 'totalpurchases'\n",
    "totalpurchases = len(totalpurchases) \n",
    "\n",
    "# Total revenue\n",
    "#Sum all values in column Price and store as 'totalrevenue'\n",
    "totalrevenue = purchase_data[\"Price\"].sum() \n",
    "\n",
    "# Create a summary data frame to hold the results & Optional: give the displayed data cleaner formatting\n",
    "purchasingsd = pd.DataFrame([uniqueitems, \"${0:,.2f}\".format(avpurchaseprice), totalpurchases, \"${0:,.2f}\".format(totalrevenue)], \n",
    "                            index=[\"Number of Unique Items\", \"Average Purchase Price\", \"Total Number of Purchases\", \"Total Revenue\"],\n",
    "                            columns=[\"Values\"])\n",
    "\n",
    "#Display the summary data frame\n",
    "purchasingsd"
   ]
  },
  {
   "cell_type": "markdown",
   "metadata": {
    "id": "L04EG94UdkXC"
   },
   "source": [
    "## Gender Demographics"
   ]
  },
  {
   "cell_type": "markdown",
   "metadata": {
    "id": "T5L1pCcTdkXC"
   },
   "source": [
    "* Percentage and Count of Male Players\n",
    "\n",
    "\n",
    "* Percentage and Count of Female Players\n",
    "\n",
    "\n",
    "* Percentage and Count of Other / Non-Disclosed\n",
    "\n",
    "\n"
   ]
  },
  {
   "cell_type": "code",
   "execution_count": 6,
   "metadata": {
    "colab": {
     "base_uri": "https://localhost:8080/",
     "height": 136
    },
    "executionInfo": {
     "elapsed": 271,
     "status": "ok",
     "timestamp": 1615146144441,
     "user": {
      "displayName": "Omar Aponte",
      "photoUrl": "",
      "userId": "10246437047479227475"
     },
     "user_tz": 300
    },
    "id": "RSc09L6ZrYpD",
    "outputId": "cdbd0c2d-19cf-409f-c0da-9c8f7b6fd63e"
   },
   "outputs": [
    {
     "data": {
      "text/html": [
       "<div>\n",
       "<style scoped>\n",
       "    .dataframe tbody tr th:only-of-type {\n",
       "        vertical-align: middle;\n",
       "    }\n",
       "\n",
       "    .dataframe tbody tr th {\n",
       "        vertical-align: top;\n",
       "    }\n",
       "\n",
       "    .dataframe thead th {\n",
       "        text-align: right;\n",
       "    }\n",
       "</style>\n",
       "<table border=\"1\" class=\"dataframe\">\n",
       "  <thead>\n",
       "    <tr style=\"text-align: right;\">\n",
       "      <th></th>\n",
       "      <th>Gender</th>\n",
       "      <th>Total Count</th>\n",
       "      <th>Percentage of Players</th>\n",
       "    </tr>\n",
       "  </thead>\n",
       "  <tbody>\n",
       "    <tr>\n",
       "      <th>0</th>\n",
       "      <td>Female</td>\n",
       "      <td>81</td>\n",
       "      <td>14.06%</td>\n",
       "    </tr>\n",
       "    <tr>\n",
       "      <th>1</th>\n",
       "      <td>Male</td>\n",
       "      <td>484</td>\n",
       "      <td>84.03%</td>\n",
       "    </tr>\n",
       "    <tr>\n",
       "      <th>2</th>\n",
       "      <td>Other / Non-Disclosed</td>\n",
       "      <td>11</td>\n",
       "      <td>1.91%</td>\n",
       "    </tr>\n",
       "  </tbody>\n",
       "</table>\n",
       "</div>"
      ],
      "text/plain": [
       "                  Gender  Total Count Percentage of Players\n",
       "0                 Female           81                14.06%\n",
       "1                   Male          484                84.03%\n",
       "2  Other / Non-Disclosed           11                 1.91%"
      ]
     },
     "execution_count": 6,
     "metadata": {},
     "output_type": "execute_result"
    }
   ],
   "source": [
    "#Create dataframe without duplicated SNs\n",
    "#Specify SN and Gender as columns of interest\n",
    "data = [purchase_data[\"SN\"], purchase_data[\"Gender\"]] \n",
    "#Specify labels for columns of interest\n",
    "headers = [\"SN\", \"Gender\"] \n",
    "#Create a DataFrame with just SN and Gender\n",
    "bygender = pd.concat(data, axis=1, keys=headers) \n",
    "#Drop duplicate SNs\n",
    "bygender = bygender.drop_duplicates() \n",
    "\n",
    "#Calculate total count per gender\n",
    "#Count SNs per Gender\n",
    "bygendercount = bygender.groupby(\"Gender\").count() \n",
    "#Create column using row labels\n",
    "bygendercount.index.name = \"Gender\"\n",
    "bygendercount.reset_index(inplace=True)\n",
    "#Edit column names\n",
    "bygendercount.columns=[\"Gender\",\"Total Count\"]\n",
    "\n",
    "\n",
    "#Calculate percentages per gender\n",
    "bygenderpercentages = pd.DataFrame(bygender[\"Gender\"].value_counts(normalize=True) * 100)\n",
    "bygenderpercentages.index.name = \"Index\"\n",
    "bygenderpercentages.reset_index(inplace=True)\n",
    "bygenderpercentages.columns=[\"Gender\",\"Percentage of Players\"]\n",
    "\n",
    "#Create a summary data frame to hold the results\n",
    "genderdemographics = pd.merge(bygendercount, bygenderpercentages, on=\"Gender\", how=\"outer\")\n",
    "\n",
    "#Format the percentage column\n",
    "genderdemographics[\"Percentage of Players\"] = pd.Series(['{0:.2f}%'.format(val) for val in genderdemographics[\"Percentage of Players\"]], index = genderdemographics.index)\n",
    "\n",
    "#Display the results\n",
    "genderdemographics"
   ]
  },
  {
   "cell_type": "markdown",
   "metadata": {
    "id": "yrCji19LdkXD"
   },
   "source": [
    "\n",
    "## Purchasing Analysis (Gender)"
   ]
  },
  {
   "cell_type": "markdown",
   "metadata": {
    "id": "-cPylvOBdkXD"
   },
   "source": [
    "* Run basic calculations to obtain purchase count, avg. purchase price, avg. purchase total per person etc. by gender\n",
    "\n",
    "\n",
    "\n",
    "\n",
    "* Create a summary data frame to hold the results\n",
    "\n",
    "\n",
    "* Optional: give the displayed data cleaner formatting\n",
    "\n",
    "\n",
    "* Display the summary data frame"
   ]
  },
  {
   "cell_type": "code",
   "execution_count": 5,
   "metadata": {
    "colab": {
     "base_uri": "https://localhost:8080/",
     "height": 136
    },
    "executionInfo": {
     "elapsed": 407,
     "status": "ok",
     "timestamp": 1615146150193,
     "user": {
      "displayName": "Omar Aponte",
      "photoUrl": "",
      "userId": "10246437047479227475"
     },
     "user_tz": 300
    },
    "id": "JpA0BWm18Eox",
    "outputId": "f3df38b9-e18b-4a12-a54e-a97b951c50d0"
   },
   "outputs": [
    {
     "data": {
      "text/html": [
       "<div>\n",
       "<style scoped>\n",
       "    .dataframe tbody tr th:only-of-type {\n",
       "        vertical-align: middle;\n",
       "    }\n",
       "\n",
       "    .dataframe tbody tr th {\n",
       "        vertical-align: top;\n",
       "    }\n",
       "\n",
       "    .dataframe thead th {\n",
       "        text-align: right;\n",
       "    }\n",
       "</style>\n",
       "<table border=\"1\" class=\"dataframe\">\n",
       "  <thead>\n",
       "    <tr style=\"text-align: right;\">\n",
       "      <th></th>\n",
       "      <th>Gender</th>\n",
       "      <th>Purchase Count</th>\n",
       "      <th>Average Purchase Price</th>\n",
       "      <th>Total Purchase Value</th>\n",
       "      <th>Avg Total Purchase per Person</th>\n",
       "    </tr>\n",
       "  </thead>\n",
       "  <tbody>\n",
       "    <tr>\n",
       "      <th>0</th>\n",
       "      <td>Female</td>\n",
       "      <td>113</td>\n",
       "      <td>$3.20</td>\n",
       "      <td>$361.94</td>\n",
       "      <td>$4.47</td>\n",
       "    </tr>\n",
       "    <tr>\n",
       "      <th>1</th>\n",
       "      <td>Male</td>\n",
       "      <td>652</td>\n",
       "      <td>$3.02</td>\n",
       "      <td>$1,967.64</td>\n",
       "      <td>$4.07</td>\n",
       "    </tr>\n",
       "    <tr>\n",
       "      <th>2</th>\n",
       "      <td>Other / Non-Disclosed</td>\n",
       "      <td>15</td>\n",
       "      <td>$3.35</td>\n",
       "      <td>$50.19</td>\n",
       "      <td>$4.56</td>\n",
       "    </tr>\n",
       "  </tbody>\n",
       "</table>\n",
       "</div>"
      ],
      "text/plain": [
       "                  Gender  ...  Avg Total Purchase per Person\n",
       "0                 Female  ...                          $4.47\n",
       "1                   Male  ...                          $4.07\n",
       "2  Other / Non-Disclosed  ...                          $4.56\n",
       "\n",
       "[3 rows x 5 columns]"
      ]
     },
     "execution_count": 5,
     "metadata": {
      "tags": []
     },
     "output_type": "execute_result"
    }
   ],
   "source": [
    "# Purchase Count by Gender\n",
    "#Specify Purchase ID and Gender as columns of interest\n",
    "data = [purchase_data[\"Purchase ID\"], purchase_data[\"Gender\"]]\n",
    "#Specify labels for columns of interest\n",
    "headers = [\"Purchase ID\", \"Gender\"] \n",
    "#Create a DataFrame with just columns of interest\n",
    "purchasecountbygender = pd.concat(data, axis=1, keys=headers) \n",
    "#Count Purchase IDs per Gender\n",
    "purchasecountbygender = purchasecountbygender.groupby(\"Gender\").count()\n",
    "#Create column using row labels\n",
    "purchasecountbygender.index.name = \"Index\"\n",
    "purchasecountbygender.reset_index(inplace=True)\n",
    "#Edit column names\n",
    "purchasecountbygender.columns=[\"Gender\",\"Purchase Count\"] \n",
    "\n",
    "# Average Purchase Price by Gender\n",
    "#Specify Price and Gender as columns of interest\n",
    "data = [purchase_data[\"Price\"], purchase_data[\"Gender\"]] \n",
    "#Specify labels for columns of interest\n",
    "headers = [\"Price\", \"Gender\"] \n",
    "#Create a DataFrame with just columns of interest\n",
    "averagepurchasepricebygender = pd.concat(data, axis=1, keys=headers) \n",
    "#Average Price per Gender\n",
    "averagepurchasepricebygender = averagepurchasepricebygender.groupby(\"Gender\").mean() \n",
    "#Create column using row labels\n",
    "averagepurchasepricebygender.index.name = \"Index\"\n",
    "averagepurchasepricebygender.reset_index(inplace=True)\n",
    "#Edit column names\n",
    "averagepurchasepricebygender.columns=[\"Gender\",\"Average Purchase Price\"]\n",
    "\n",
    "# Total Purchase Value by Gender\n",
    "#Specify Price and Gender as columns of interest\n",
    "data = [purchase_data[\"Price\"], purchase_data[\"Gender\"]] \n",
    "#Specify labels for columns of interest\n",
    "headers = [\"Price\", \"Gender\"] \n",
    "#Create a DataFrame with just columns of interest\n",
    "totalpurchasepricebygender = pd.concat(data, axis=1, keys=headers) \n",
    "#Total Purchase Value per Gender\n",
    "totalpurchasepricebygender = totalpurchasepricebygender.groupby(\"Gender\").sum() \n",
    "#Create column using row labels\n",
    "totalpurchasepricebygender.index.name = \"Index\"\n",
    "totalpurchasepricebygender.reset_index(inplace=True)\n",
    "#Edit column names\n",
    "totalpurchasepricebygender.columns=[\"Gender\",\"Total Purchase Value\"]\n",
    "\n",
    "# Average Total Purchase Per Person by Gender\n",
    "### First, calculate sum of all purchases per SN\n",
    "#Specify SN and Price as columns of interest\n",
    "data = [purchase_data[\"SN\"], purchase_data[\"Price\"]] \n",
    "#Specify labels for columns of interest\n",
    "headers = [\"SN\", \"Price\"] \n",
    "#Create a DataFrame with just columns of interest\n",
    "totalpurchasesperperson = pd.concat(data, axis=1, keys=headers) \n",
    "#Sum all purchases per person\n",
    "totalpurchasesperperson = totalpurchasesperperson.groupby(\"SN\").sum() \n",
    "\n",
    "### Second, add Gender information to each SN  \n",
    "#Specify SN and Gender as columns of interest\n",
    "data = [purchase_data[\"SN\"], purchase_data[\"Gender\"]]\n",
    "#Specify labels for columns of interest\n",
    "headers = [\"SN\", \"Gender\"] \n",
    "#Create a DataFrame with just columns of interest\n",
    "avtotalpurchaseperpersonbygender = pd.concat(data, axis=1, keys=headers) \n",
    "#Drop duplicate SNs\n",
    "avtotalpurchaseperpersonbygender = avtotalpurchaseperpersonbygender.drop_duplicates() \n",
    "#Add Genger to total purchase per person\n",
    "avtotalpurchaseperpersonbygender = pd.merge(totalpurchasesperperson, avtotalpurchaseperpersonbygender, on=\"SN\", how=\"outer\") \n",
    "avtotalpurchaseperpersonbygender = avtotalpurchaseperpersonbygender.groupby(\"Gender\", as_index=False)[\"Price\"].mean()\n",
    "avtotalpurchaseperpersonbygender.columns=[\"Gender\",\"Avg Total Purchase per Person\"]\n",
    "\n",
    "#Create a summary data frame to hold the results\n",
    "purchasinganalysispergender = pd.merge(purchasecountbygender, averagepurchasepricebygender, on=\"Gender\", how=\"outer\")\n",
    "purchasinganalysispergender = pd.merge(purchasinganalysispergender, totalpurchasepricebygender, on=\"Gender\", how=\"outer\")\n",
    "purchasinganalysispergender = pd.merge(purchasinganalysispergender, avtotalpurchaseperpersonbygender, on=\"Gender\", how=\"outer\")\n",
    "\n",
    "#Optional: give the displayed data cleaner formatting\n",
    "purchasinganalysispergender[\"Average Purchase Price\"] = pd.Series([\"${0:,.2f}\".format(val) for val in purchasinganalysispergender[\"Average Purchase Price\"]], index = purchasinganalysispergender.index)\n",
    "purchasinganalysispergender[\"Total Purchase Value\"] = pd.Series([\"${0:,.2f}\".format(val) for val in purchasinganalysispergender[\"Total Purchase Value\"]], index = purchasinganalysispergender.index)\n",
    "purchasinganalysispergender[\"Avg Total Purchase per Person\"] = pd.Series([\"${0:,.2f}\".format(val) for val in purchasinganalysispergender[\"Avg Total Purchase per Person\"]], index = purchasinganalysispergender.index)\n",
    "\n",
    "#Display the summary data frame\n",
    "purchasinganalysispergender"
   ]
  },
  {
   "cell_type": "markdown",
   "metadata": {
    "id": "h3iNflSgdkXE"
   },
   "source": [
    "## Age Demographics"
   ]
  },
  {
   "cell_type": "markdown",
   "metadata": {
    "id": "lP6UHEBndkXE"
   },
   "source": [
    "* Establish bins for ages\n",
    "\n",
    "\n",
    "* Categorize the existing players using the age bins. Hint: use pd.cut()\n",
    "\n",
    "\n",
    "* Calculate the numbers and percentages by age group\n",
    "\n",
    "\n",
    "* Create a summary data frame to hold the results\n",
    "\n",
    "\n",
    "* Optional: round the percentage column to two decimal points\n",
    "\n",
    "\n",
    "* Display Age Demographics Table\n"
   ]
  },
  {
   "cell_type": "code",
   "execution_count": 6,
   "metadata": {
    "colab": {
     "base_uri": "https://localhost:8080/",
     "height": 284
    },
    "executionInfo": {
     "elapsed": 304,
     "status": "ok",
     "timestamp": 1615146157946,
     "user": {
      "displayName": "Omar Aponte",
      "photoUrl": "",
      "userId": "10246437047479227475"
     },
     "user_tz": 300
    },
    "id": "yPQ4RhEsKuxd",
    "outputId": "efb99c2e-cef5-4d29-f278-c88303e74285"
   },
   "outputs": [
    {
     "data": {
      "text/html": [
       "<div>\n",
       "<style scoped>\n",
       "    .dataframe tbody tr th:only-of-type {\n",
       "        vertical-align: middle;\n",
       "    }\n",
       "\n",
       "    .dataframe tbody tr th {\n",
       "        vertical-align: top;\n",
       "    }\n",
       "\n",
       "    .dataframe thead th {\n",
       "        text-align: right;\n",
       "    }\n",
       "</style>\n",
       "<table border=\"1\" class=\"dataframe\">\n",
       "  <thead>\n",
       "    <tr style=\"text-align: right;\">\n",
       "      <th></th>\n",
       "      <th>Age Group</th>\n",
       "      <th>Total Count</th>\n",
       "      <th>Percentage of Players</th>\n",
       "    </tr>\n",
       "  </thead>\n",
       "  <tbody>\n",
       "    <tr>\n",
       "      <th>0</th>\n",
       "      <td>&lt;10</td>\n",
       "      <td>17</td>\n",
       "      <td>2.95%</td>\n",
       "    </tr>\n",
       "    <tr>\n",
       "      <th>1</th>\n",
       "      <td>10-14</td>\n",
       "      <td>22</td>\n",
       "      <td>3.82%</td>\n",
       "    </tr>\n",
       "    <tr>\n",
       "      <th>2</th>\n",
       "      <td>15-19</td>\n",
       "      <td>107</td>\n",
       "      <td>18.58%</td>\n",
       "    </tr>\n",
       "    <tr>\n",
       "      <th>3</th>\n",
       "      <td>20-24</td>\n",
       "      <td>258</td>\n",
       "      <td>44.79%</td>\n",
       "    </tr>\n",
       "    <tr>\n",
       "      <th>4</th>\n",
       "      <td>25-29</td>\n",
       "      <td>77</td>\n",
       "      <td>13.37%</td>\n",
       "    </tr>\n",
       "    <tr>\n",
       "      <th>5</th>\n",
       "      <td>30-34</td>\n",
       "      <td>52</td>\n",
       "      <td>9.03%</td>\n",
       "    </tr>\n",
       "    <tr>\n",
       "      <th>6</th>\n",
       "      <td>35-39</td>\n",
       "      <td>31</td>\n",
       "      <td>5.38%</td>\n",
       "    </tr>\n",
       "    <tr>\n",
       "      <th>7</th>\n",
       "      <td>40+</td>\n",
       "      <td>12</td>\n",
       "      <td>2.08%</td>\n",
       "    </tr>\n",
       "  </tbody>\n",
       "</table>\n",
       "</div>"
      ],
      "text/plain": [
       "  Age Group  Total Count Percentage of Players\n",
       "0       <10           17                 2.95%\n",
       "1     10-14           22                 3.82%\n",
       "2     15-19          107                18.58%\n",
       "3     20-24          258                44.79%\n",
       "4     25-29           77                13.37%\n",
       "5     30-34           52                 9.03%\n",
       "6     35-39           31                 5.38%\n",
       "7       40+           12                 2.08%"
      ]
     },
     "execution_count": 6,
     "metadata": {
      "tags": []
     },
     "output_type": "execute_result"
    }
   ],
   "source": [
    "#Generating a dataframe of Ages without duplicated SNs\n",
    "#Specify SN and Age as columns of interest\n",
    "data = [purchase_data[\"SN\"], purchase_data[\"Age\"]] \n",
    "#Specify labels for columns of interest\n",
    "headers = [\"SN\", \"Age\"] \n",
    "#Create a DataFrame with just columns of interest\n",
    "ages = pd.concat(data, axis=1, keys=headers)\n",
    "#Drop duplicate SNs\n",
    "ages = ages.drop_duplicates() \n",
    "#Drop column SN\n",
    "ages = ages.drop(columns=\"SN\") \n",
    "\n",
    "#Establish bins for ages\n",
    "bins = [0,9,14,19,24,29,34,39,999999999999999]\n",
    "group_names= [\"<10\",\"10-14\",\"15-19\",\"20-24\",\"25-29\",\"30-34\",\"35-39\",\"40+\"]\n",
    "\n",
    "#Categorize the existing players using the age bins\n",
    "ages[\"Age Group\"] = pd.cut(ages[\"Age\"], bins, labels=group_names, include_lowest=True)\n",
    "\n",
    "#Calculate totals per age group\n",
    "totalsperages = pd.DataFrame(ages.groupby(\"Age Group\").count())\n",
    "#Edit column names\n",
    "totalsperages.rename(columns={\"Age\": \"Total Count\"}, inplace=True) \n",
    "\n",
    "#Calculate percentages per age group\n",
    "percentagesperages = pd.DataFrame(ages[\"Age Group\"].value_counts(normalize=True) * 100)\n",
    "percentagesperages.rename(columns={\"Age Group\": \"Percentage of Players\"}, inplace=True)\n",
    "#Create column using row labels\n",
    "percentagesperages.index.name = \"Age Group\"\n",
    "percentagesperages.reset_index(inplace=True)\n",
    "\n",
    "#Create a summary data frame to hold the results\n",
    "agessumdataframe = pd.merge(totalsperages, percentagesperages, on=\"Age Group\", how=\"outer\")\n",
    "\n",
    "#Optional: round the percentage column to two decimal points\n",
    "agessumdataframe[\"Percentage of Players\"] = pd.Series(['{0:.2f}%'.format(val) for val in agessumdataframe[\"Percentage of Players\"]], index = agessumdataframe.index)\n",
    "\n",
    "#Display Age Demographics Table\n",
    "agessumdataframe"
   ]
  },
  {
   "cell_type": "markdown",
   "metadata": {
    "id": "S6rfmkzidkXF"
   },
   "source": [
    "## Purchasing Analysis (Age)"
   ]
  },
  {
   "cell_type": "markdown",
   "metadata": {
    "id": "_eiKc0cldkXF"
   },
   "source": [
    "* Bin the purchase_data data frame by age\n",
    "\n",
    "\n",
    "* Run basic calculations to obtain purchase count, avg. purchase price, avg. purchase total per person etc. in the table below\n",
    "\n",
    "\n",
    "* Create a summary data frame to hold the results\n",
    "\n",
    "\n",
    "* Optional: give the displayed data cleaner formatting\n",
    "\n",
    "\n",
    "* Display the summary data frame"
   ]
  },
  {
   "cell_type": "code",
   "execution_count": 7,
   "metadata": {
    "colab": {
     "base_uri": "https://localhost:8080/",
     "height": 284
    },
    "executionInfo": {
     "elapsed": 291,
     "status": "ok",
     "timestamp": 1615146163549,
     "user": {
      "displayName": "Omar Aponte",
      "photoUrl": "",
      "userId": "10246437047479227475"
     },
     "user_tz": 300
    },
    "id": "vHXoIIOqulxJ",
    "outputId": "a5a6e49a-acbc-442c-e368-93134e7d3d1b"
   },
   "outputs": [
    {
     "data": {
      "text/html": [
       "<div>\n",
       "<style scoped>\n",
       "    .dataframe tbody tr th:only-of-type {\n",
       "        vertical-align: middle;\n",
       "    }\n",
       "\n",
       "    .dataframe tbody tr th {\n",
       "        vertical-align: top;\n",
       "    }\n",
       "\n",
       "    .dataframe thead th {\n",
       "        text-align: right;\n",
       "    }\n",
       "</style>\n",
       "<table border=\"1\" class=\"dataframe\">\n",
       "  <thead>\n",
       "    <tr style=\"text-align: right;\">\n",
       "      <th></th>\n",
       "      <th>Age Ranges</th>\n",
       "      <th>Purchase Count</th>\n",
       "      <th>Average Purchase Price</th>\n",
       "      <th>Total Purchase Value</th>\n",
       "      <th>Avg Total Purchase per Person</th>\n",
       "    </tr>\n",
       "  </thead>\n",
       "  <tbody>\n",
       "    <tr>\n",
       "      <th>0</th>\n",
       "      <td>&lt;10</td>\n",
       "      <td>23</td>\n",
       "      <td>$3.35</td>\n",
       "      <td>$77.13</td>\n",
       "      <td>$3.35</td>\n",
       "    </tr>\n",
       "    <tr>\n",
       "      <th>1</th>\n",
       "      <td>10-14</td>\n",
       "      <td>28</td>\n",
       "      <td>$2.96</td>\n",
       "      <td>$82.78</td>\n",
       "      <td>$2.96</td>\n",
       "    </tr>\n",
       "    <tr>\n",
       "      <th>2</th>\n",
       "      <td>15-19</td>\n",
       "      <td>136</td>\n",
       "      <td>$3.04</td>\n",
       "      <td>$412.89</td>\n",
       "      <td>$3.04</td>\n",
       "    </tr>\n",
       "    <tr>\n",
       "      <th>3</th>\n",
       "      <td>20-24</td>\n",
       "      <td>365</td>\n",
       "      <td>$3.05</td>\n",
       "      <td>$1,114.06</td>\n",
       "      <td>$3.05</td>\n",
       "    </tr>\n",
       "    <tr>\n",
       "      <th>4</th>\n",
       "      <td>25-29</td>\n",
       "      <td>101</td>\n",
       "      <td>$2.90</td>\n",
       "      <td>$293.00</td>\n",
       "      <td>$2.90</td>\n",
       "    </tr>\n",
       "    <tr>\n",
       "      <th>5</th>\n",
       "      <td>30-34</td>\n",
       "      <td>73</td>\n",
       "      <td>$2.93</td>\n",
       "      <td>$214.00</td>\n",
       "      <td>$2.93</td>\n",
       "    </tr>\n",
       "    <tr>\n",
       "      <th>6</th>\n",
       "      <td>35-39</td>\n",
       "      <td>41</td>\n",
       "      <td>$3.60</td>\n",
       "      <td>$147.67</td>\n",
       "      <td>$3.60</td>\n",
       "    </tr>\n",
       "    <tr>\n",
       "      <th>7</th>\n",
       "      <td>40+</td>\n",
       "      <td>13</td>\n",
       "      <td>$2.94</td>\n",
       "      <td>$38.24</td>\n",
       "      <td>$2.94</td>\n",
       "    </tr>\n",
       "  </tbody>\n",
       "</table>\n",
       "</div>"
      ],
      "text/plain": [
       "  Age Ranges  Purchase Count  ... Total Purchase Value Avg Total Purchase per Person\n",
       "0        <10              23  ...               $77.13                         $3.35\n",
       "1      10-14              28  ...               $82.78                         $2.96\n",
       "2      15-19             136  ...              $412.89                         $3.04\n",
       "3      20-24             365  ...            $1,114.06                         $3.05\n",
       "4      25-29             101  ...              $293.00                         $2.90\n",
       "5      30-34              73  ...              $214.00                         $2.93\n",
       "6      35-39              41  ...              $147.67                         $3.60\n",
       "7        40+              13  ...               $38.24                         $2.94\n",
       "\n",
       "[8 rows x 5 columns]"
      ]
     },
     "execution_count": 7,
     "metadata": {
      "tags": []
     },
     "output_type": "execute_result"
    }
   ],
   "source": [
    "#Make a copy of the original purchase_data dataframe\n",
    "purchase_data2 = purchase_data\n",
    "\n",
    "#Bin the purchase_data data frame by age\n",
    "purchase_data2[\"Age Ranges\"] = pd.cut(purchase_data2[\"Age\"], bins, labels=group_names, include_lowest=True)\n",
    "\n",
    "#Determine Purchase Count\n",
    "purchasecountbyage = purchase_data2.groupby(\"Age Ranges\", as_index=False)[\"Purchase ID\"].count()\n",
    "#Edit column names\n",
    "purchasecountbyage.columns=[\"Age Ranges\",\"Purchase Count\"] \n",
    "\n",
    "#Average Purchase Price\n",
    "averagepurchasepricebyage = purchase_data2.groupby(\"Age Ranges\", as_index=False)[\"Price\"].mean()\n",
    "#Edit column names\n",
    "averagepurchasepricebyage.columns=[\"Age Ranges\",\"Average Purchase Price\"] \n",
    "\n",
    "#Total Purchase Value\n",
    "totalpurchasevaluebyage = purchase_data2.groupby(\"Age Ranges\", as_index=False)[\"Price\"].sum()\n",
    "#Edit column names\n",
    "totalpurchasevaluebyage.columns=[\"Age Ranges\",\"Total Purchase Value\"] \n",
    "\n",
    "#Avg Total Purchase per Person\n",
    "### First, calculate sum of all purchases per SN\n",
    "#Specify SN and Price as columns of interest\n",
    "data = [purchase_data[\"SN\"], purchase_data[\"Price\"]] \n",
    "#Specify labels for columns of interest\n",
    "headers = [\"SN\", \"Price\"]\n",
    "#Create a DataFrame with just columns of interest\n",
    "totalpurchasesperperson = pd.concat(data, axis=1, keys=headers) \n",
    "\n",
    "### Second, add Age Ranges information to the \"totalpurchasesperperson\" dataframe created earlier \n",
    "#Specify SN and Age Ranges as columns of interest\n",
    "data = [purchase_data2[\"SN\"], purchase_data2[\"Age Ranges\"]] \n",
    "#Specify labels for columns of interest\n",
    "headers = [\"SN\", \"Age Ranges\"] \n",
    "#Create a dataframe with just columns of interest\n",
    "averagetotalpurchaseperpersonbyage = pd.concat(data, axis=1, keys=headers) \n",
    "#Add Genger to total purchase per person\n",
    "averagetotalpurchaseperpersonbyage = pd.merge(totalpurchasesperperson, averagetotalpurchaseperpersonbyage, on=\"SN\", how=\"outer\")\n",
    "#Drop duplicate values\n",
    "averagetotalpurchaseperpersonbyage = averagetotalpurchaseperpersonbyage.drop_duplicates() \n",
    "averagetotalpurchaseperpersonbyage = averagetotalpurchaseperpersonbyage.groupby(\"Age Ranges\", as_index=False)[\"Price\"].mean()\n",
    "#Edit column names\n",
    "averagetotalpurchaseperpersonbyage.columns=[\"Age Ranges\",\"Avg Total Purchase per Person\"] \n",
    "\n",
    "#Create a summary data frame to hold the results\n",
    "purchasinganalysisperage = pd.merge(purchasecountbyage, averagepurchasepricebyage, on=\"Age Ranges\", how=\"outer\")\n",
    "purchasinganalysisperage = pd.merge(purchasinganalysisperage, totalpurchasevaluebyage, on=\"Age Ranges\", how=\"outer\")\n",
    "purchasinganalysisperage = pd.merge(purchasinganalysisperage, averagetotalpurchaseperpersonbyage, on=\"Age Ranges\", how=\"outer\")\n",
    "\n",
    "#Optional: give the displayed data cleaner formatting\n",
    "purchasinganalysisperage[\"Average Purchase Price\"] = pd.Series([\"${0:,.2f}\".format(val) for val in purchasinganalysisperage[\"Average Purchase Price\"]], index = purchasinganalysisperage.index)\n",
    "purchasinganalysisperage[\"Total Purchase Value\"] = pd.Series([\"${0:,.2f}\".format(val) for val in purchasinganalysisperage[\"Total Purchase Value\"]], index = purchasinganalysisperage.index)\n",
    "purchasinganalysisperage[\"Avg Total Purchase per Person\"] = pd.Series([\"${0:,.2f}\".format(val) for val in purchasinganalysisperage[\"Avg Total Purchase per Person\"]], index = purchasinganalysisperage.index)\n",
    "\n",
    "#Display the summary data frame\n",
    "purchasinganalysisperage"
   ]
  },
  {
   "cell_type": "markdown",
   "metadata": {
    "id": "E_zXbKtddkXG"
   },
   "source": [
    "## Top Spenders"
   ]
  },
  {
   "cell_type": "markdown",
   "metadata": {
    "id": "P4POts39dkXG"
   },
   "source": [
    "* Run basic calculations to obtain the results in the table below\n",
    "\n",
    "\n",
    "* Create a summary data frame to hold the results\n",
    "\n",
    "\n",
    "* Sort the total purchase value column in descending order\n",
    "\n",
    "\n",
    "* Optional: give the displayed data cleaner formatting\n",
    "\n",
    "\n",
    "* Display a preview of the summary data frame\n",
    "\n"
   ]
  },
  {
   "cell_type": "code",
   "execution_count": 8,
   "metadata": {
    "colab": {
     "base_uri": "https://localhost:8080/",
     "height": 195
    },
    "executionInfo": {
     "elapsed": 479,
     "status": "ok",
     "timestamp": 1615146170753,
     "user": {
      "displayName": "Omar Aponte",
      "photoUrl": "",
      "userId": "10246437047479227475"
     },
     "user_tz": 300
    },
    "id": "ugCEnyCtZkJ5",
    "outputId": "c5fce759-7212-46f8-e2db-0dfa7d384ed5"
   },
   "outputs": [
    {
     "data": {
      "text/html": [
       "<div>\n",
       "<style scoped>\n",
       "    .dataframe tbody tr th:only-of-type {\n",
       "        vertical-align: middle;\n",
       "    }\n",
       "\n",
       "    .dataframe tbody tr th {\n",
       "        vertical-align: top;\n",
       "    }\n",
       "\n",
       "    .dataframe thead th {\n",
       "        text-align: right;\n",
       "    }\n",
       "</style>\n",
       "<table border=\"1\" class=\"dataframe\">\n",
       "  <thead>\n",
       "    <tr style=\"text-align: right;\">\n",
       "      <th></th>\n",
       "      <th>SN</th>\n",
       "      <th>Purchase Count</th>\n",
       "      <th>Average Purchase Price</th>\n",
       "      <th>Total Purchase Value</th>\n",
       "    </tr>\n",
       "  </thead>\n",
       "  <tbody>\n",
       "    <tr>\n",
       "      <th>0</th>\n",
       "      <td>Lisosia93</td>\n",
       "      <td>5</td>\n",
       "      <td>$3.79</td>\n",
       "      <td>$18.96</td>\n",
       "    </tr>\n",
       "    <tr>\n",
       "      <th>1</th>\n",
       "      <td>Idastidru52</td>\n",
       "      <td>4</td>\n",
       "      <td>$3.86</td>\n",
       "      <td>$15.45</td>\n",
       "    </tr>\n",
       "    <tr>\n",
       "      <th>2</th>\n",
       "      <td>Chamjask73</td>\n",
       "      <td>3</td>\n",
       "      <td>$4.61</td>\n",
       "      <td>$13.83</td>\n",
       "    </tr>\n",
       "    <tr>\n",
       "      <th>3</th>\n",
       "      <td>Iral74</td>\n",
       "      <td>4</td>\n",
       "      <td>$3.40</td>\n",
       "      <td>$13.62</td>\n",
       "    </tr>\n",
       "    <tr>\n",
       "      <th>4</th>\n",
       "      <td>Iskadarya95</td>\n",
       "      <td>3</td>\n",
       "      <td>$4.37</td>\n",
       "      <td>$13.10</td>\n",
       "    </tr>\n",
       "  </tbody>\n",
       "</table>\n",
       "</div>"
      ],
      "text/plain": [
       "            SN  Purchase Count Average Purchase Price Total Purchase Value\n",
       "0    Lisosia93               5                  $3.79               $18.96\n",
       "1  Idastidru52               4                  $3.86               $15.45\n",
       "2   Chamjask73               3                  $4.61               $13.83\n",
       "3       Iral74               4                  $3.40               $13.62\n",
       "4  Iskadarya95               3                  $4.37               $13.10"
      ]
     },
     "execution_count": 8,
     "metadata": {
      "tags": []
     },
     "output_type": "execute_result"
    }
   ],
   "source": [
    "# Purchase Count by SN\n",
    "#Specify SN and Purchase ID as columns of interest\n",
    "data = [purchase_data[\"SN\"], purchase_data[\"Purchase ID\"]] \n",
    "#Specify labels for columns of interest\n",
    "headers = [\"SN\", \"Purchase ID\"] \n",
    "#Create a DataFrame with just columns of interest\n",
    "purchasecountbysn = pd.concat(data, axis=1, keys=headers) \n",
    "#Count Purchase IDs per SN\n",
    "purchasecountbysn = purchasecountbysn.groupby(\"SN\").count() \n",
    "#Create column using row labels\n",
    "purchasecountbysn.index.name = \"Index\"\n",
    "purchasecountbysn.reset_index(inplace=True)\n",
    "#Edit column names\n",
    "purchasecountbysn.columns=[\"SN\",\"Purchase Count\"] \n",
    "\n",
    "# Average Purchase Price by SN\n",
    "### First, calculate sum of all purchases per SN\n",
    "#Specify SN and Price as columns of interest\n",
    "data = [purchase_data[\"SN\"], purchase_data[\"Price\"]]\n",
    "#Specify labels for columns of interest\n",
    "headers = [\"SN\", \"Price\"] \n",
    "#Create a DataFrame with just columns of interest\n",
    "totalpurchasesperperson = pd.concat(data, axis=1, keys=headers) \n",
    "\n",
    "### Second, calculate average    \n",
    "#Average Total Purchases per SN\n",
    "purchaseaveragebysn = totalpurchasesperperson.groupby(\"SN\").mean() \n",
    "#Create column using row labels\n",
    "purchaseaveragebysn.index.name = \"Index\"\n",
    "purchaseaveragebysn.reset_index(inplace=True)\n",
    "#Edit column names\n",
    "purchaseaveragebysn.columns=[\"SN\",\"Average Purchase Price\"] \n",
    "\n",
    "# Total Purchase Value by SN\n",
    "#Specify SN and Price as columns of interest\n",
    "data = [purchase_data[\"SN\"], purchase_data[\"Price\"]] \n",
    "#Specify labels for columns of interest\n",
    "headers = [\"SN\", \"Price\"] \n",
    "#Create a DataFrame with just columns of interest\n",
    "totalpurchasesperperson = pd.concat(data, axis=1, keys=headers) \n",
    "#Sum all purchases per person\n",
    "totalpurchasesperperson = totalpurchasesperperson.groupby(\"SN\").sum()\n",
    "#Create column using row names\n",
    "totalpurchasesperperson.index.name = \"Index\" \n",
    "totalpurchasesperperson.reset_index(inplace=True) \n",
    "#Edit column names\n",
    "totalpurchasesperperson.columns=[\"SN\",\"Total Purchase Value\"] \n",
    "\n",
    "#Create a summary data frame to hold the results\n",
    "topspenders = pd.merge(purchasecountbysn, purchaseaveragebysn, on=\"SN\", how=\"outer\")\n",
    "topspenders = pd.merge(topspenders, totalpurchasesperperson, on=\"SN\", how=\"outer\")\n",
    "\n",
    "#Sort the total purchase value column in descending order\n",
    "topspenders = topspenders.sort_values(\"Total Purchase Value\", ascending=False, ignore_index=True)\n",
    "\n",
    "#Optional: give the displayed data cleaner formatting\n",
    "topspenders[\"Average Purchase Price\"] = pd.Series([\"${0:,.2f}\".format(val) for val in topspenders[\"Average Purchase Price\"]], index = topspenders.index)\n",
    "topspenders[\"Total Purchase Value\"] = pd.Series([\"${0:,.2f}\".format(val) for val in topspenders[\"Total Purchase Value\"]], index = topspenders.index)\n",
    "\n",
    "#Display a preview of the summary data frame including just the Top 5 spenders\n",
    "topspenders.iloc[0:5,]"
   ]
  },
  {
   "cell_type": "markdown",
   "metadata": {
    "id": "_9XZnC5jdkXG"
   },
   "source": [
    "## Most Popular Items"
   ]
  },
  {
   "cell_type": "markdown",
   "metadata": {
    "id": "K16_95gQdkXH"
   },
   "source": [
    "* Retrieve the Item ID, Item Name, and Item Price columns\n",
    "\n",
    "\n",
    "* Group by Item ID and Item Name. Perform calculations to obtain purchase count, average item price, and total purchase value\n",
    "\n",
    "\n",
    "* Create a summary data frame to hold the results\n",
    "\n",
    "\n",
    "* Sort the purchase count column in descending order\n",
    "\n",
    "\n",
    "* Optional: give the displayed data cleaner formatting\n",
    "\n",
    "\n",
    "* Display a preview of the summary data frame\n",
    "\n"
   ]
  },
  {
   "cell_type": "code",
   "execution_count": 9,
   "metadata": {
    "colab": {
     "base_uri": "https://localhost:8080/",
     "height": 343
    },
    "executionInfo": {
     "elapsed": 263,
     "status": "ok",
     "timestamp": 1615146177616,
     "user": {
      "displayName": "Omar Aponte",
      "photoUrl": "",
      "userId": "10246437047479227475"
     },
     "user_tz": 300
    },
    "id": "VK2GlgbBdkXH",
    "outputId": "23d59095-2ca1-4f73-a526-667af282e3c0"
   },
   "outputs": [
    {
     "data": {
      "text/html": [
       "<div>\n",
       "<style scoped>\n",
       "    .dataframe tbody tr th:only-of-type {\n",
       "        vertical-align: middle;\n",
       "    }\n",
       "\n",
       "    .dataframe tbody tr th {\n",
       "        vertical-align: top;\n",
       "    }\n",
       "\n",
       "    .dataframe thead th {\n",
       "        text-align: right;\n",
       "    }\n",
       "</style>\n",
       "<table border=\"1\" class=\"dataframe\">\n",
       "  <thead>\n",
       "    <tr style=\"text-align: right;\">\n",
       "      <th></th>\n",
       "      <th>Item ID</th>\n",
       "      <th>Item Name</th>\n",
       "      <th>Purchase Count</th>\n",
       "      <th>Item Price</th>\n",
       "      <th>Total Purchase Value</th>\n",
       "    </tr>\n",
       "  </thead>\n",
       "  <tbody>\n",
       "    <tr>\n",
       "      <th>0</th>\n",
       "      <td>92</td>\n",
       "      <td>Final Critic</td>\n",
       "      <td>13</td>\n",
       "      <td>$4.88</td>\n",
       "      <td>$59.99</td>\n",
       "    </tr>\n",
       "    <tr>\n",
       "      <th>1</th>\n",
       "      <td>178</td>\n",
       "      <td>Oathbreaker, Last Hope of the Breaking Storm</td>\n",
       "      <td>12</td>\n",
       "      <td>$4.23</td>\n",
       "      <td>$50.76</td>\n",
       "    </tr>\n",
       "    <tr>\n",
       "      <th>2</th>\n",
       "      <td>108</td>\n",
       "      <td>Extraction, Quickblade Of Trembling Hands</td>\n",
       "      <td>9</td>\n",
       "      <td>$3.53</td>\n",
       "      <td>$31.77</td>\n",
       "    </tr>\n",
       "    <tr>\n",
       "      <th>3</th>\n",
       "      <td>82</td>\n",
       "      <td>Nirvana</td>\n",
       "      <td>9</td>\n",
       "      <td>$4.90</td>\n",
       "      <td>$44.10</td>\n",
       "    </tr>\n",
       "    <tr>\n",
       "      <th>4</th>\n",
       "      <td>145</td>\n",
       "      <td>Fiery Glass Crusader</td>\n",
       "      <td>9</td>\n",
       "      <td>$4.58</td>\n",
       "      <td>$41.22</td>\n",
       "    </tr>\n",
       "    <tr>\n",
       "      <th>5</th>\n",
       "      <td>132</td>\n",
       "      <td>Persuasion</td>\n",
       "      <td>9</td>\n",
       "      <td>$3.19</td>\n",
       "      <td>$28.99</td>\n",
       "    </tr>\n",
       "    <tr>\n",
       "      <th>6</th>\n",
       "      <td>19</td>\n",
       "      <td>Pursuit, Cudgel of Necromancy</td>\n",
       "      <td>8</td>\n",
       "      <td>$1.02</td>\n",
       "      <td>$8.16</td>\n",
       "    </tr>\n",
       "    <tr>\n",
       "      <th>7</th>\n",
       "      <td>103</td>\n",
       "      <td>Singed Scalpel</td>\n",
       "      <td>8</td>\n",
       "      <td>$4.35</td>\n",
       "      <td>$34.80</td>\n",
       "    </tr>\n",
       "    <tr>\n",
       "      <th>8</th>\n",
       "      <td>59</td>\n",
       "      <td>Lightning, Etcher of the King</td>\n",
       "      <td>8</td>\n",
       "      <td>$4.23</td>\n",
       "      <td>$33.84</td>\n",
       "    </tr>\n",
       "    <tr>\n",
       "      <th>9</th>\n",
       "      <td>34</td>\n",
       "      <td>Retribution Axe</td>\n",
       "      <td>8</td>\n",
       "      <td>$2.22</td>\n",
       "      <td>$17.76</td>\n",
       "    </tr>\n",
       "  </tbody>\n",
       "</table>\n",
       "</div>"
      ],
      "text/plain": [
       "   Item ID  ... Total Purchase Value\n",
       "0       92  ...               $59.99\n",
       "1      178  ...               $50.76\n",
       "2      108  ...               $31.77\n",
       "3       82  ...               $44.10\n",
       "4      145  ...               $41.22\n",
       "5      132  ...               $28.99\n",
       "6       19  ...                $8.16\n",
       "7      103  ...               $34.80\n",
       "8       59  ...               $33.84\n",
       "9       34  ...               $17.76\n",
       "\n",
       "[10 rows x 5 columns]"
      ]
     },
     "execution_count": 9,
     "metadata": {
      "tags": []
     },
     "output_type": "execute_result"
    }
   ],
   "source": [
    "#Retrieve the Item ID, Item Name, and Item Price columns\n",
    "#Specify Item ID, Item Name, and Price as columns of interest\n",
    "data = [purchase_data[\"Item ID\"], purchase_data[\"Item Name\"], purchase_data[\"Price\"]] \n",
    "#Specify labels for columns of interest\n",
    "headers = [\"Item ID\", \"Item Name\", \"Item Price\"] \n",
    "#Create a DataFrame with just columns of interest\n",
    "popularitems = pd.concat(data, axis=1, keys=headers) \n",
    "\n",
    "#Group by Item ID and Item Name. Perform calculations to obtain purchase count, average item price, and total purchase value\n",
    "### Purchase Count by Item\n",
    "#Select columns Item ID and Price to work with\n",
    "purchasecountbyitem = popularitems.iloc[:,[0,2]] \n",
    "#Count all purchases per item\n",
    "purchasecountbyitem = purchasecountbyitem.groupby(\"Item ID\").count()\n",
    "#Create column using row labels\n",
    "purchasecountbyitem.index.name = \"Index\" \n",
    "#Reset row labels\n",
    "purchasecountbyitem.reset_index(inplace=True) \n",
    "#Edit column labels\n",
    "purchasecountbyitem.columns=[\"Item ID\",\"Purchase Count\"] \n",
    "\n",
    "### Total Purchase Value by Item\n",
    "#Select columns Item ID and Price to work with\n",
    "totalpurchasevaluebyitem = popularitems.iloc[:,[0,2]] \n",
    "#Sum all purchases per item\n",
    "totalpurchasevaluebyitem = totalpurchasevaluebyitem.groupby(\"Item ID\").sum()\n",
    "#Create column using row labels\n",
    "totalpurchasevaluebyitem.index.name = \"Index\"\n",
    "#Reset row labels\n",
    "totalpurchasevaluebyitem.reset_index(inplace=True) \n",
    "#Edit column labels\n",
    "totalpurchasevaluebyitem.columns=[\"Item ID\",\"Total Purchase Value\"] \n",
    "\n",
    "#Create a summary data frame to hold the results\n",
    "popularitems = pd.merge(popularitems, purchasecountbyitem, on=\"Item ID\", how=\"outer\")\n",
    "popularitems = pd.merge(popularitems, totalpurchasevaluebyitem, on=\"Item ID\", how=\"outer\")\n",
    "#Remove duplicates based on Item ID\n",
    "popularitems = popularitems.drop_duplicates(\"Item ID\") \n",
    "#Rearrange the order of the columns\n",
    "popularitems = popularitems.iloc[:,[0,1,3,2,4]] \n",
    "\n",
    "#Sort the purchase count column in descending order\n",
    "popularitems = popularitems.sort_values(\"Purchase Count\", ascending=False, ignore_index=True)\n",
    "\n",
    "#Optional: give the displayed data cleaner formatting\n",
    "popularitems[\"Item Price\"] = pd.Series([\"${0:,.2f}\".format(val) for val in popularitems[\"Item Price\"]], index = popularitems.index)\n",
    "popularitems[\"Total Purchase Value\"] = pd.Series([\"${0:,.2f}\".format(val) for val in popularitems[\"Total Purchase Value\"]], index = popularitems.index)\n",
    "\n",
    "#Display a preview of the summary data frame including just the Top 10 most popular items\n",
    "popularitems.iloc[0:10,]"
   ]
  },
  {
   "cell_type": "markdown",
   "metadata": {
    "id": "xjc9WDzvdkXH"
   },
   "source": [
    "## Most Profitable Items"
   ]
  },
  {
   "cell_type": "markdown",
   "metadata": {
    "id": "6jgIfBnxdkXI"
   },
   "source": [
    "* Sort the above table by total purchase value in descending order\n",
    "\n",
    "\n",
    "* Optional: give the displayed data cleaner formatting\n",
    "\n",
    "\n",
    "* Display a preview of the data frame\n",
    "\n"
   ]
  },
  {
   "cell_type": "code",
   "execution_count": 11,
   "metadata": {
    "colab": {
     "base_uri": "https://localhost:8080/",
     "height": 195
    },
    "executionInfo": {
     "elapsed": 258,
     "status": "ok",
     "timestamp": 1615146183931,
     "user": {
      "displayName": "Omar Aponte",
      "photoUrl": "",
      "userId": "10246437047479227475"
     },
     "user_tz": 300
    },
    "id": "niOrkcwwF33C",
    "outputId": "dd0e2a5b-e0c0-441b-86bc-a9e78c5a774b"
   },
   "outputs": [
    {
     "data": {
      "text/html": [
       "<div>\n",
       "<style scoped>\n",
       "    .dataframe tbody tr th:only-of-type {\n",
       "        vertical-align: middle;\n",
       "    }\n",
       "\n",
       "    .dataframe tbody tr th {\n",
       "        vertical-align: top;\n",
       "    }\n",
       "\n",
       "    .dataframe thead th {\n",
       "        text-align: right;\n",
       "    }\n",
       "</style>\n",
       "<table border=\"1\" class=\"dataframe\">\n",
       "  <thead>\n",
       "    <tr style=\"text-align: right;\">\n",
       "      <th></th>\n",
       "      <th>Item ID</th>\n",
       "      <th>Item Name</th>\n",
       "      <th>Purchase Count</th>\n",
       "      <th>Item Price</th>\n",
       "      <th>Total Purchase Value</th>\n",
       "    </tr>\n",
       "  </thead>\n",
       "  <tbody>\n",
       "    <tr>\n",
       "      <th>0</th>\n",
       "      <td>92</td>\n",
       "      <td>Final Critic</td>\n",
       "      <td>13</td>\n",
       "      <td>$4.88</td>\n",
       "      <td>$59.99</td>\n",
       "    </tr>\n",
       "    <tr>\n",
       "      <th>1</th>\n",
       "      <td>178</td>\n",
       "      <td>Oathbreaker, Last Hope of the Breaking Storm</td>\n",
       "      <td>12</td>\n",
       "      <td>$4.23</td>\n",
       "      <td>$50.76</td>\n",
       "    </tr>\n",
       "    <tr>\n",
       "      <th>2</th>\n",
       "      <td>82</td>\n",
       "      <td>Nirvana</td>\n",
       "      <td>9</td>\n",
       "      <td>$4.90</td>\n",
       "      <td>$44.10</td>\n",
       "    </tr>\n",
       "    <tr>\n",
       "      <th>3</th>\n",
       "      <td>145</td>\n",
       "      <td>Fiery Glass Crusader</td>\n",
       "      <td>9</td>\n",
       "      <td>$4.58</td>\n",
       "      <td>$41.22</td>\n",
       "    </tr>\n",
       "    <tr>\n",
       "      <th>4</th>\n",
       "      <td>103</td>\n",
       "      <td>Singed Scalpel</td>\n",
       "      <td>8</td>\n",
       "      <td>$4.35</td>\n",
       "      <td>$34.80</td>\n",
       "    </tr>\n",
       "  </tbody>\n",
       "</table>\n",
       "</div>"
      ],
      "text/plain": [
       "   Item ID  ... Total Purchase Value\n",
       "0       92  ...               $59.99\n",
       "1      178  ...               $50.76\n",
       "2       82  ...               $44.10\n",
       "3      145  ...               $41.22\n",
       "4      103  ...               $34.80\n",
       "\n",
       "[5 rows x 5 columns]"
      ]
     },
     "execution_count": 11,
     "metadata": {
      "tags": []
     },
     "output_type": "execute_result"
    }
   ],
   "source": [
    "#Sort the above table by total purchase value in descending order\n",
    "### Regenerate table without data formatting\n",
    "#Specify Item ID, Item Name, and Price as columns of interest\n",
    "data = [purchase_data[\"Item ID\"], purchase_data[\"Item Name\"], purchase_data[\"Price\"]] \n",
    "#Specify labels for columns of interest\n",
    "headers = [\"Item ID\", \"Item Name\", \"Item Price\"] \n",
    "#Create a DataFrame with just columns of interest\n",
    "popularitems = pd.concat(data, axis=1, keys=headers) \n",
    "popularitems = pd.merge(popularitems, purchasecountbyitem, on=\"Item ID\", how=\"outer\")\n",
    "popularitems = pd.merge(popularitems, totalpurchasevaluebyitem, on=\"Item ID\", how=\"outer\")\n",
    "#Remove duplicates based on Item ID\n",
    "popularitems = popularitems.drop_duplicates(\"Item ID\") \n",
    "#Rearrange the order of the columns\n",
    "popularitems = popularitems.iloc[:,[0,1,3,2,4]] \n",
    "### Sort\n",
    "popularitems = popularitems.sort_values(\"Total Purchase Value\", ascending=False, ignore_index=True)\n",
    "\n",
    "#Optional: give the displayed data cleaner formatting\n",
    "popularitems[\"Item Price\"] = pd.Series([\"${0:,.2f}\".format(val) for val in popularitems[\"Item Price\"]], index = popularitems.index)\n",
    "popularitems[\"Total Purchase Value\"] = pd.Series([\"${0:,.2f}\".format(val) for val in popularitems[\"Total Purchase Value\"]], index = popularitems.index)\n",
    "\n",
    "#Display a preview of the data frame including just the Top 5 highest value generating items\n",
    "popularitems.iloc[0:5,]"
   ]
  }
 ],
 "metadata": {
  "anaconda-cloud": {},
  "colab": {
   "collapsed_sections": [],
   "name": "HeroesOfPymoli_partial.ipynb",
   "provenance": [],
   "toc_visible": true
  },
  "kernel_info": {
   "name": "python3"
  },
  "kernelspec": {
   "display_name": "Python 3",
   "language": "python",
   "name": "python3"
  },
  "language_info": {
   "codemirror_mode": {
    "name": "ipython",
    "version": 3
   },
   "file_extension": ".py",
   "mimetype": "text/x-python",
   "name": "python",
   "nbconvert_exporter": "python",
   "pygments_lexer": "ipython3",
   "version": "3.6.10"
  },
  "latex_envs": {
   "LaTeX_envs_menu_present": true,
   "autoclose": false,
   "autocomplete": true,
   "bibliofile": "biblio.bib",
   "cite_by": "apalike",
   "current_citInitial": 1,
   "eqLabelWithNumbers": true,
   "eqNumInitial": 1,
   "hotkeys": {
    "equation": "Ctrl-E",
    "itemize": "Ctrl-I"
   },
   "labels_anchors": false,
   "latex_user_defs": false,
   "report_style_numbering": false,
   "user_envs_cfg": false
  },
  "nteract": {
   "version": "0.2.0"
  }
 },
 "nbformat": 4,
 "nbformat_minor": 1
}
